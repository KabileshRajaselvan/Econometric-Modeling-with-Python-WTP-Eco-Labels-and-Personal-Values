{
  "cells": [
    {
      "cell_type": "code",
      "execution_count": 2,
      "id": "be2e56df-8c35-44a2-8ca7-6e27879657e9",
      "metadata": {
        "colab": {
          "base_uri": "https://localhost:8080/",
          "height": 206
        },
        "id": "be2e56df-8c35-44a2-8ca7-6e27879657e9",
        "outputId": "e9a9961f-5c03-424d-f3be-4891ad49b570"
      },
      "outputs": [
        {
          "output_type": "execute_result",
          "data": {
            "text/plain": [
              "         Date       Open       High        Low      Close  Adj Close  Volume\n",
              "0  2018-10-02  25.000000  25.000000  25.000000  25.000000  23.705992       0\n",
              "1  2018-10-03  24.889999  24.889999  24.889999  24.889999  23.601679       0\n",
              "2  2018-10-04  24.844999  24.844999  24.844999  24.844999  23.559011       0\n",
              "3  2018-10-05  24.830000  24.830000  24.830000  24.830000  23.544788       0\n",
              "4  2018-10-08  24.865000  24.865000  24.865000  24.865000  23.577976       0"
            ],
            "text/html": [
              "\n",
              "  <div id=\"df-f97b513f-b720-4c60-9f63-8ce3609ad4bd\" class=\"colab-df-container\">\n",
              "    <div>\n",
              "<style scoped>\n",
              "    .dataframe tbody tr th:only-of-type {\n",
              "        vertical-align: middle;\n",
              "    }\n",
              "\n",
              "    .dataframe tbody tr th {\n",
              "        vertical-align: top;\n",
              "    }\n",
              "\n",
              "    .dataframe thead th {\n",
              "        text-align: right;\n",
              "    }\n",
              "</style>\n",
              "<table border=\"1\" class=\"dataframe\">\n",
              "  <thead>\n",
              "    <tr style=\"text-align: right;\">\n",
              "      <th></th>\n",
              "      <th>Date</th>\n",
              "      <th>Open</th>\n",
              "      <th>High</th>\n",
              "      <th>Low</th>\n",
              "      <th>Close</th>\n",
              "      <th>Adj Close</th>\n",
              "      <th>Volume</th>\n",
              "    </tr>\n",
              "  </thead>\n",
              "  <tbody>\n",
              "    <tr>\n",
              "      <th>0</th>\n",
              "      <td>2018-10-02</td>\n",
              "      <td>25.000000</td>\n",
              "      <td>25.000000</td>\n",
              "      <td>25.000000</td>\n",
              "      <td>25.000000</td>\n",
              "      <td>23.705992</td>\n",
              "      <td>0</td>\n",
              "    </tr>\n",
              "    <tr>\n",
              "      <th>1</th>\n",
              "      <td>2018-10-03</td>\n",
              "      <td>24.889999</td>\n",
              "      <td>24.889999</td>\n",
              "      <td>24.889999</td>\n",
              "      <td>24.889999</td>\n",
              "      <td>23.601679</td>\n",
              "      <td>0</td>\n",
              "    </tr>\n",
              "    <tr>\n",
              "      <th>2</th>\n",
              "      <td>2018-10-04</td>\n",
              "      <td>24.844999</td>\n",
              "      <td>24.844999</td>\n",
              "      <td>24.844999</td>\n",
              "      <td>24.844999</td>\n",
              "      <td>23.559011</td>\n",
              "      <td>0</td>\n",
              "    </tr>\n",
              "    <tr>\n",
              "      <th>3</th>\n",
              "      <td>2018-10-05</td>\n",
              "      <td>24.830000</td>\n",
              "      <td>24.830000</td>\n",
              "      <td>24.830000</td>\n",
              "      <td>24.830000</td>\n",
              "      <td>23.544788</td>\n",
              "      <td>0</td>\n",
              "    </tr>\n",
              "    <tr>\n",
              "      <th>4</th>\n",
              "      <td>2018-10-08</td>\n",
              "      <td>24.865000</td>\n",
              "      <td>24.865000</td>\n",
              "      <td>24.865000</td>\n",
              "      <td>24.865000</td>\n",
              "      <td>23.577976</td>\n",
              "      <td>0</td>\n",
              "    </tr>\n",
              "  </tbody>\n",
              "</table>\n",
              "</div>\n",
              "    <div class=\"colab-df-buttons\">\n",
              "\n",
              "  <div class=\"colab-df-container\">\n",
              "    <button class=\"colab-df-convert\" onclick=\"convertToInteractive('df-f97b513f-b720-4c60-9f63-8ce3609ad4bd')\"\n",
              "            title=\"Convert this dataframe to an interactive table.\"\n",
              "            style=\"display:none;\">\n",
              "\n",
              "  <svg xmlns=\"http://www.w3.org/2000/svg\" height=\"24px\" viewBox=\"0 -960 960 960\">\n",
              "    <path d=\"M120-120v-720h720v720H120Zm60-500h600v-160H180v160Zm220 220h160v-160H400v160Zm0 220h160v-160H400v160ZM180-400h160v-160H180v160Zm440 0h160v-160H620v160ZM180-180h160v-160H180v160Zm440 0h160v-160H620v160Z\"/>\n",
              "  </svg>\n",
              "    </button>\n",
              "\n",
              "  <style>\n",
              "    .colab-df-container {\n",
              "      display:flex;\n",
              "      gap: 12px;\n",
              "    }\n",
              "\n",
              "    .colab-df-convert {\n",
              "      background-color: #E8F0FE;\n",
              "      border: none;\n",
              "      border-radius: 50%;\n",
              "      cursor: pointer;\n",
              "      display: none;\n",
              "      fill: #1967D2;\n",
              "      height: 32px;\n",
              "      padding: 0 0 0 0;\n",
              "      width: 32px;\n",
              "    }\n",
              "\n",
              "    .colab-df-convert:hover {\n",
              "      background-color: #E2EBFA;\n",
              "      box-shadow: 0px 1px 2px rgba(60, 64, 67, 0.3), 0px 1px 3px 1px rgba(60, 64, 67, 0.15);\n",
              "      fill: #174EA6;\n",
              "    }\n",
              "\n",
              "    .colab-df-buttons div {\n",
              "      margin-bottom: 4px;\n",
              "    }\n",
              "\n",
              "    [theme=dark] .colab-df-convert {\n",
              "      background-color: #3B4455;\n",
              "      fill: #D2E3FC;\n",
              "    }\n",
              "\n",
              "    [theme=dark] .colab-df-convert:hover {\n",
              "      background-color: #434B5C;\n",
              "      box-shadow: 0px 1px 3px 1px rgba(0, 0, 0, 0.15);\n",
              "      filter: drop-shadow(0px 1px 2px rgba(0, 0, 0, 0.3));\n",
              "      fill: #FFFFFF;\n",
              "    }\n",
              "  </style>\n",
              "\n",
              "    <script>\n",
              "      const buttonEl =\n",
              "        document.querySelector('#df-f97b513f-b720-4c60-9f63-8ce3609ad4bd button.colab-df-convert');\n",
              "      buttonEl.style.display =\n",
              "        google.colab.kernel.accessAllowed ? 'block' : 'none';\n",
              "\n",
              "      async function convertToInteractive(key) {\n",
              "        const element = document.querySelector('#df-f97b513f-b720-4c60-9f63-8ce3609ad4bd');\n",
              "        const dataTable =\n",
              "          await google.colab.kernel.invokeFunction('convertToInteractive',\n",
              "                                                    [key], {});\n",
              "        if (!dataTable) return;\n",
              "\n",
              "        const docLinkHtml = 'Like what you see? Visit the ' +\n",
              "          '<a target=\"_blank\" href=https://colab.research.google.com/notebooks/data_table.ipynb>data table notebook</a>'\n",
              "          + ' to learn more about interactive tables.';\n",
              "        element.innerHTML = '';\n",
              "        dataTable['output_type'] = 'display_data';\n",
              "        await google.colab.output.renderOutput(dataTable, element);\n",
              "        const docLink = document.createElement('div');\n",
              "        docLink.innerHTML = docLinkHtml;\n",
              "        element.appendChild(docLink);\n",
              "      }\n",
              "    </script>\n",
              "  </div>\n",
              "\n",
              "\n",
              "<div id=\"df-8dd1393b-6229-4cce-a721-0b0d32d05896\">\n",
              "  <button class=\"colab-df-quickchart\" onclick=\"quickchart('df-8dd1393b-6229-4cce-a721-0b0d32d05896')\"\n",
              "            title=\"Suggest charts\"\n",
              "            style=\"display:none;\">\n",
              "\n",
              "<svg xmlns=\"http://www.w3.org/2000/svg\" height=\"24px\"viewBox=\"0 0 24 24\"\n",
              "     width=\"24px\">\n",
              "    <g>\n",
              "        <path d=\"M19 3H5c-1.1 0-2 .9-2 2v14c0 1.1.9 2 2 2h14c1.1 0 2-.9 2-2V5c0-1.1-.9-2-2-2zM9 17H7v-7h2v7zm4 0h-2V7h2v10zm4 0h-2v-4h2v4z\"/>\n",
              "    </g>\n",
              "</svg>\n",
              "  </button>\n",
              "\n",
              "<style>\n",
              "  .colab-df-quickchart {\n",
              "      --bg-color: #E8F0FE;\n",
              "      --fill-color: #1967D2;\n",
              "      --hover-bg-color: #E2EBFA;\n",
              "      --hover-fill-color: #174EA6;\n",
              "      --disabled-fill-color: #AAA;\n",
              "      --disabled-bg-color: #DDD;\n",
              "  }\n",
              "\n",
              "  [theme=dark] .colab-df-quickchart {\n",
              "      --bg-color: #3B4455;\n",
              "      --fill-color: #D2E3FC;\n",
              "      --hover-bg-color: #434B5C;\n",
              "      --hover-fill-color: #FFFFFF;\n",
              "      --disabled-bg-color: #3B4455;\n",
              "      --disabled-fill-color: #666;\n",
              "  }\n",
              "\n",
              "  .colab-df-quickchart {\n",
              "    background-color: var(--bg-color);\n",
              "    border: none;\n",
              "    border-radius: 50%;\n",
              "    cursor: pointer;\n",
              "    display: none;\n",
              "    fill: var(--fill-color);\n",
              "    height: 32px;\n",
              "    padding: 0;\n",
              "    width: 32px;\n",
              "  }\n",
              "\n",
              "  .colab-df-quickchart:hover {\n",
              "    background-color: var(--hover-bg-color);\n",
              "    box-shadow: 0 1px 2px rgba(60, 64, 67, 0.3), 0 1px 3px 1px rgba(60, 64, 67, 0.15);\n",
              "    fill: var(--button-hover-fill-color);\n",
              "  }\n",
              "\n",
              "  .colab-df-quickchart-complete:disabled,\n",
              "  .colab-df-quickchart-complete:disabled:hover {\n",
              "    background-color: var(--disabled-bg-color);\n",
              "    fill: var(--disabled-fill-color);\n",
              "    box-shadow: none;\n",
              "  }\n",
              "\n",
              "  .colab-df-spinner {\n",
              "    border: 2px solid var(--fill-color);\n",
              "    border-color: transparent;\n",
              "    border-bottom-color: var(--fill-color);\n",
              "    animation:\n",
              "      spin 1s steps(1) infinite;\n",
              "  }\n",
              "\n",
              "  @keyframes spin {\n",
              "    0% {\n",
              "      border-color: transparent;\n",
              "      border-bottom-color: var(--fill-color);\n",
              "      border-left-color: var(--fill-color);\n",
              "    }\n",
              "    20% {\n",
              "      border-color: transparent;\n",
              "      border-left-color: var(--fill-color);\n",
              "      border-top-color: var(--fill-color);\n",
              "    }\n",
              "    30% {\n",
              "      border-color: transparent;\n",
              "      border-left-color: var(--fill-color);\n",
              "      border-top-color: var(--fill-color);\n",
              "      border-right-color: var(--fill-color);\n",
              "    }\n",
              "    40% {\n",
              "      border-color: transparent;\n",
              "      border-right-color: var(--fill-color);\n",
              "      border-top-color: var(--fill-color);\n",
              "    }\n",
              "    60% {\n",
              "      border-color: transparent;\n",
              "      border-right-color: var(--fill-color);\n",
              "    }\n",
              "    80% {\n",
              "      border-color: transparent;\n",
              "      border-right-color: var(--fill-color);\n",
              "      border-bottom-color: var(--fill-color);\n",
              "    }\n",
              "    90% {\n",
              "      border-color: transparent;\n",
              "      border-bottom-color: var(--fill-color);\n",
              "    }\n",
              "  }\n",
              "</style>\n",
              "\n",
              "  <script>\n",
              "    async function quickchart(key) {\n",
              "      const quickchartButtonEl =\n",
              "        document.querySelector('#' + key + ' button');\n",
              "      quickchartButtonEl.disabled = true;  // To prevent multiple clicks.\n",
              "      quickchartButtonEl.classList.add('colab-df-spinner');\n",
              "      try {\n",
              "        const charts = await google.colab.kernel.invokeFunction(\n",
              "            'suggestCharts', [key], {});\n",
              "      } catch (error) {\n",
              "        console.error('Error during call to suggestCharts:', error);\n",
              "      }\n",
              "      quickchartButtonEl.classList.remove('colab-df-spinner');\n",
              "      quickchartButtonEl.classList.add('colab-df-quickchart-complete');\n",
              "    }\n",
              "    (() => {\n",
              "      let quickchartButtonEl =\n",
              "        document.querySelector('#df-8dd1393b-6229-4cce-a721-0b0d32d05896 button');\n",
              "      quickchartButtonEl.style.display =\n",
              "        google.colab.kernel.accessAllowed ? 'block' : 'none';\n",
              "    })();\n",
              "  </script>\n",
              "</div>\n",
              "\n",
              "    </div>\n",
              "  </div>\n"
            ],
            "application/vnd.google.colaboratory.intrinsic+json": {
              "type": "dataframe",
              "variable_name": "data",
              "summary": "{\n  \"name\": \"data\",\n  \"rows\": 377,\n  \"fields\": [\n    {\n      \"column\": \"Date\",\n      \"properties\": {\n        \"dtype\": \"object\",\n        \"num_unique_values\": 377,\n        \"samples\": [\n          \"2019-11-20\",\n          \"2019-10-11\",\n          \"2019-10-17\"\n        ],\n        \"semantic_type\": \"\",\n        \"description\": \"\"\n      }\n    },\n    {\n      \"column\": \"Open\",\n      \"properties\": {\n        \"dtype\": \"number\",\n        \"std\": 0.4730498031690773,\n        \"min\": 24.1200008392334,\n        \"max\": 26.190000534057617,\n        \"num_unique_values\": 236,\n        \"samples\": [\n          25.3700008392334,\n          26.02829933166504,\n          26.03700065612793\n        ],\n        \"semantic_type\": \"\",\n        \"description\": \"\"\n      }\n    },\n    {\n      \"column\": \"High\",\n      \"properties\": {\n        \"dtype\": \"number\",\n        \"std\": 0.4695280908279527,\n        \"min\": 24.170000076293945,\n        \"max\": 26.190000534057617,\n        \"num_unique_values\": 203,\n        \"samples\": [\n          25.040000915527344,\n          24.90719985961914,\n          25.88500022888184\n        ],\n        \"semantic_type\": \"\",\n        \"description\": \"\"\n      }\n    },\n    {\n      \"column\": \"Low\",\n      \"properties\": {\n        \"dtype\": \"number\",\n        \"std\": 0.47500391552125115,\n        \"min\": 24.1200008392334,\n        \"max\": 26.170000076293945,\n        \"num_unique_values\": 235,\n        \"samples\": [\n          25.26499938964844,\n          26.016000747680664,\n          25.94499969482422\n        ],\n        \"semantic_type\": \"\",\n        \"description\": \"\"\n      }\n    },\n    {\n      \"column\": \"Close\",\n      \"properties\": {\n        \"dtype\": \"number\",\n        \"std\": 0.4712273322585449,\n        \"min\": 24.15999984741211,\n        \"max\": 26.170000076293945,\n        \"num_unique_values\": 183,\n        \"samples\": [\n          24.8799991607666,\n          25.155000686645508,\n          26.065000534057617\n        ],\n        \"semantic_type\": \"\",\n        \"description\": \"\"\n      }\n    },\n    {\n      \"column\": \"Adj Close\",\n      \"properties\": {\n        \"dtype\": \"number\",\n        \"std\": 0.833498286769238,\n        \"min\": 23.54374313354492,\n        \"max\": 26.170000076293945,\n        \"num_unique_values\": 264,\n        \"samples\": [\n          24.417613983154297,\n          25.6783447265625,\n          24.538227081298828\n        ],\n        \"semantic_type\": \"\",\n        \"description\": \"\"\n      }\n    },\n    {\n      \"column\": \"Volume\",\n      \"properties\": {\n        \"dtype\": \"number\",\n        \"std\": 2392,\n        \"min\": 0,\n        \"max\": 22542,\n        \"num_unique_values\": 286,\n        \"samples\": [\n          4226,\n          602,\n          260\n        ],\n        \"semantic_type\": \"\",\n        \"description\": \"\"\n      }\n    }\n  ]\n}"
            }
          },
          "metadata": {},
          "execution_count": 2
        }
      ],
      "source": [
        "import pandas as pd\n",
        "\n",
        "# Load the CSV file\n",
        "file_path = r\"/content/BSBE.csv\"\n",
        "data = pd.read_csv(file_path)\n",
        "\n",
        "# Display the first few rows of the dataset to identify column names\n",
        "data.head()"
      ]
    },
    {
      "cell_type": "code",
      "execution_count": 3,
      "id": "885db907-2178-491c-abcf-7d728e0feeb2",
      "metadata": {
        "colab": {
          "base_uri": "https://localhost:8080/"
        },
        "id": "885db907-2178-491c-abcf-7d728e0feeb2",
        "outputId": "99c560da-09a6-4429-aa13-3ca7ea026029"
      },
      "outputs": [
        {
          "output_type": "stream",
          "name": "stdout",
          "text": [
            "Z-Test One Sample: Z=567.3403656847046, p-value=0.0\n"
          ]
        }
      ],
      "source": [
        "from statsmodels.stats.weightstats import ztest\n",
        "\n",
        "# One sample Z-test: Testing if the mean of 'Close' prices is equal to 11.8\n",
        "z_statistic, p_value = ztest(data['Close'], value=11.8)\n",
        "print(f\"Z-Test One Sample: Z={z_statistic}, p-value={p_value}\")\n"
      ]
    },
    {
      "cell_type": "code",
      "execution_count": 4,
      "id": "075c3bcd-de3d-4ff8-ba83-a2e02c489169",
      "metadata": {
        "colab": {
          "base_uri": "https://localhost:8080/"
        },
        "id": "075c3bcd-de3d-4ff8-ba83-a2e02c489169",
        "outputId": "4bcd86c3-85e4-4f69-c876-993b0036ba97"
      },
      "outputs": [
        {
          "output_type": "stream",
          "name": "stdout",
          "text": [
            "Z-Test Two Sample: Z=0.26221431147367136, p-value=0.7931562203571536\n"
          ]
        }
      ],
      "source": [
        "# Two sample Z-test: Comparing the means of 'Open' and 'Close' prices\n",
        "z_statistic, p_value = ztest(data['Open'], data['Close'])\n",
        "print(f\"Z-Test Two Sample: Z={z_statistic}, p-value={p_value}\")\n"
      ]
    },
    {
      "cell_type": "code",
      "execution_count": 5,
      "id": "d5fa3692-5a58-4652-b6ec-62ad4c6dd3d5",
      "metadata": {
        "colab": {
          "base_uri": "https://localhost:8080/"
        },
        "id": "d5fa3692-5a58-4652-b6ec-62ad4c6dd3d5",
        "outputId": "45a1ac7f-b57b-4277-9a59-fd5b5ee366d3"
      },
      "outputs": [
        {
          "output_type": "stream",
          "name": "stdout",
          "text": [
            "T-Test One Sample: T=567.3403656847046, p-value=0.0\n"
          ]
        }
      ],
      "source": [
        "from scipy.stats import ttest_1samp\n",
        "\n",
        "# One sample T-test: Testing if the mean of 'Close' prices is equal to 11.8\n",
        "t_statistic, p_value = ttest_1samp(data['Close'], 11.8)\n",
        "print(f\"T-Test One Sample: T={t_statistic}, p-value={p_value}\")\n"
      ]
    },
    {
      "cell_type": "code",
      "execution_count": 6,
      "id": "d7897d79-9ef1-4297-98a7-b3cc29b48efa",
      "metadata": {
        "colab": {
          "base_uri": "https://localhost:8080/"
        },
        "id": "d7897d79-9ef1-4297-98a7-b3cc29b48efa",
        "outputId": "53b86486-2321-4f54-ec67-e683245d42aa"
      },
      "outputs": [
        {
          "output_type": "stream",
          "name": "stdout",
          "text": [
            "T-Test Two Sample: T=0.26221431147367136, p-value=0.7932280313526325\n"
          ]
        }
      ],
      "source": [
        "from scipy.stats import ttest_ind\n",
        "\n",
        "# Two sample T-test: Comparing the means of 'Open' and 'Close' prices\n",
        "t_statistic, p_value = ttest_ind(data['Open'], data['Close'])\n",
        "print(f\"T-Test Two Sample: T={t_statistic}, p-value={p_value}\")\n"
      ]
    },
    {
      "cell_type": "code",
      "execution_count": 7,
      "id": "32d0e7c3-2623-48b8-aeb8-b0a5ae4ff543",
      "metadata": {
        "colab": {
          "base_uri": "https://localhost:8080/"
        },
        "id": "32d0e7c3-2623-48b8-aeb8-b0a5ae4ff543",
        "outputId": "b133ae19-1b82-4128-b946-8fcb1227dd5c"
      },
      "outputs": [
        {
          "output_type": "stream",
          "name": "stdout",
          "text": [
            "Chi-Square Test: Chi2=16.565591054779468, p-value=0.0008680489048294102, Degrees of Freedom=3\n"
          ]
        }
      ],
      "source": [
        "from scipy.stats import chi2_contingency\n",
        "import pandas as pd\n",
        "\n",
        "# Creating categories by binning 'Volume'\n",
        "data['Volume_Category'] = pd.qcut(data['Volume'], q=4, labels=['Low', 'Medium', 'High', 'Very High'])\n",
        "\n",
        "# Creating a contingency table\n",
        "contingency_table = pd.crosstab(data['Volume_Category'], data['Close'] > data['Close'].mean())\n",
        "\n",
        "# Chi-Square test\n",
        "chi2_stat, p_value, dof, expected = chi2_contingency(contingency_table)\n",
        "print(f\"Chi-Square Test: Chi2={chi2_stat}, p-value={p_value}, Degrees of Freedom={dof}\")\n"
      ]
    },
    {
      "cell_type": "code",
      "execution_count": 8,
      "id": "1419998e-8435-4617-b114-c5e7776c3afe",
      "metadata": {
        "colab": {
          "base_uri": "https://localhost:8080/"
        },
        "id": "1419998e-8435-4617-b114-c5e7776c3afe",
        "outputId": "262d0056-f856-43a7-d10a-c0cd974bfe3d"
      },
      "outputs": [
        {
          "output_type": "stream",
          "name": "stdout",
          "text": [
            "ANOVA F-Test: F=0.21756361995722637, p-value=0.8045101725702333\n"
          ]
        }
      ],
      "source": [
        "from scipy.stats import f_oneway\n",
        "\n",
        "# ANOVA F-test: Comparing the means of 'Open', 'High', and 'Close' prices\n",
        "f_statistic, p_value = f_oneway(data['Open'], data['High'], data['Close'])\n",
        "print(f\"ANOVA F-Test: F={f_statistic}, p-value={p_value}\")\n"
      ]
    },
    {
      "cell_type": "code",
      "execution_count": 9,
      "id": "0c9aeb56-0ee1-4142-ad75-9ea944aef286",
      "metadata": {
        "colab": {
          "base_uri": "https://localhost:8080/"
        },
        "id": "0c9aeb56-0ee1-4142-ad75-9ea944aef286",
        "outputId": "504d3652-58ff-42e0-8ab1-7a908cdc3717"
      },
      "outputs": [
        {
          "output_type": "stream",
          "name": "stdout",
          "text": [
            "MAD: 0.5786059149380388\n",
            "MAPE: 2.285807346116324%\n",
            "MAE: 0.5786059149380388\n",
            "MSE: 0.5168167472848386\n",
            "RMSE: 0.7188996781782828\n"
          ]
        }
      ],
      "source": [
        "import numpy as np\n",
        "\n",
        "actual = data['Close']\n",
        "predicted = data['Adj Close']\n",
        "\n",
        "# MAD\n",
        "mad = np.mean(np.abs(actual - predicted))\n",
        "print(f\"MAD: {mad}\")\n",
        "\n",
        "# MAPE\n",
        "mape = np.mean(np.abs((actual - predicted) / actual)) * 100\n",
        "print(f\"MAPE: {mape}%\")\n",
        "\n",
        "# MAE\n",
        "mae = np.mean(np.abs(actual - predicted))\n",
        "print(f\"MAE: {mae}\")\n",
        "\n",
        "# MSE\n",
        "mse = np.mean((actual - predicted) ** 2)\n",
        "print(f\"MSE: {mse}\")\n",
        "\n",
        "# RMSE\n",
        "rmse = np.sqrt(mse)\n",
        "print(f\"RMSE: {rmse}\")\n"
      ]
    },
    {
      "cell_type": "code",
      "execution_count": 10,
      "id": "d787ea20-abac-4cf3-819b-e82e561e9cf7",
      "metadata": {
        "colab": {
          "base_uri": "https://localhost:8080/"
        },
        "id": "d787ea20-abac-4cf3-819b-e82e561e9cf7",
        "outputId": "f3acd176-eba5-4535-ab4e-24f96077285b"
      },
      "outputs": [
        {
          "output_type": "stream",
          "name": "stdout",
          "text": [
            "Are 'Close' and 'Adj Close' identical? False\n"
          ]
        }
      ],
      "source": [
        "# Check if Close and Adj Close columns are identical\n",
        "identical = (data['Close'] == data['Adj Close']).all()\n",
        "print(f\"Are 'Close' and 'Adj Close' identical? {identical}\")\n"
      ]
    },
    {
      "cell_type": "code",
      "execution_count": null,
      "id": "0c923b9c-77fe-488e-be79-ccf144d4f322",
      "metadata": {
        "id": "0c923b9c-77fe-488e-be79-ccf144d4f322"
      },
      "outputs": [],
      "source": []
    }
  ],
  "metadata": {
    "kernelspec": {
      "display_name": "Python 3 (ipykernel)",
      "language": "python",
      "name": "python3"
    },
    "language_info": {
      "codemirror_mode": {
        "name": "ipython",
        "version": 3
      },
      "file_extension": ".py",
      "mimetype": "text/x-python",
      "name": "python",
      "nbconvert_exporter": "python",
      "pygments_lexer": "ipython3",
      "version": "3.11.7"
    },
    "colab": {
      "provenance": []
    }
  },
  "nbformat": 4,
  "nbformat_minor": 5
}